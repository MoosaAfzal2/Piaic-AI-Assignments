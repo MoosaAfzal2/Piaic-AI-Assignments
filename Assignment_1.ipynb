{
 "cells": [
  {
   "cell_type": "code",
   "execution_count": 42,
   "id": "1363f583",
   "metadata": {},
   "outputs": [
    {
     "name": "stdout",
     "output_type": "stream",
     "text": [
      "Hello World\n",
      "Imran Khan once said,\"Bravery stands with truth and right.Truth is the power that can solve our problems\"\n"
     ]
    }
   ],
   "source": [
    "##### Variable and Strings #####\n",
    "message = \"Hello World\"\n",
    "print(message)\n",
    "quote = 'Imran Khan once said,\"Bravery stands with truth and right.Truth is the power that can solve our problems\"'\n",
    "print(quote)"
   ]
  },
  {
   "cell_type": "code",
   "execution_count": 43,
   "id": "7a66547f",
   "metadata": {},
   "outputs": [
    {
     "name": "stdout",
     "output_type": "stream",
     "text": [
      "Enter Radius: 0.5\n",
      "Area of Circle is: 0.7853981633975\n"
     ]
    }
   ],
   "source": [
    "##### Area of Circle #####\n",
    "Radius = float(input(\"Enter Radius: \"))\n",
    "Area = (Radius * Radius) * 3.14159265359\n",
    "print(f\"Area of Circle is: {Area}\")"
   ]
  },
  {
   "cell_type": "code",
   "execution_count": 44,
   "id": "0427572f",
   "metadata": {},
   "outputs": [
    {
     "name": "stdout",
     "output_type": "stream",
     "text": [
      "Enter Number: -6\n",
      "Number is Negative\n"
     ]
    }
   ],
   "source": [
    "##### If Number is either positive, negative or zero #####\n",
    "num = float(input(\"Enter Number: \"))\n",
    "if num > 0:\n",
    "    print(\"Number is Positive\")\n",
    "elif num < 0:\n",
    "    print(\"Number is Negative\")\n",
    "elif num == 0:\n",
    "    print(\"Number is Zero\")"
   ]
  },
  {
   "cell_type": "code",
   "execution_count": 46,
   "id": "132667e3",
   "metadata": {},
   "outputs": [
    {
     "name": "stdout",
     "output_type": "stream",
     "text": [
      "Enter Alphabet: i\n",
      "alphabet I is a Vowel\n"
     ]
    }
   ],
   "source": [
    "##### Vowel Tester #####\n",
    "alphabet = input(\"Enter Alphabet: \")\n",
    "vowels = [\"A\",\"E\",\"I\",\"O\",\"U\"]\n",
    "\n",
    "if alphabet.upper() in vowels:\n",
    "    print(f\"alphabet {alphabet.upper()} is a Vowel\")\n",
    "else:\n",
    "    print(f\"alphabet {alphabet.upper()} is not a Vowel\")"
   ]
  },
  {
   "cell_type": "code",
   "execution_count": 47,
   "id": "60ef5ce4",
   "metadata": {},
   "outputs": [
    {
     "name": "stdout",
     "output_type": "stream",
     "text": [
      "Enter Weight in Kg: 75\n",
      "Enter Height in Cm: 180\n",
      "Your Body Mass index is: 23.15 Kg/m2\n"
     ]
    }
   ],
   "source": [
    "##### BMI Calculator #####\n",
    "weight = float(input(\"Enter Weight in Kg: \"))\n",
    "height = (float(input(\"Enter Height in Cm: \"))) / 100\n",
    "BMI = weight / (height * height)\n",
    "print(f\"Your Body Mass index is: {BMI:.2f} Kg/m2\")"
   ]
  },
  {
   "cell_type": "code",
   "execution_count": 48,
   "id": "077cf344",
   "metadata": {},
   "outputs": [
    {
     "name": "stdout",
     "output_type": "stream",
     "text": [
      "Hello Ali, How have you been?\n",
      "Hello Hamza, How have you been?\n",
      "Hello Areeb, How have you been?\n",
      "Hello Mohsin, How have you been?\n",
      "Hello Haseeb, How have you been?\n"
     ]
    }
   ],
   "source": [
    "##### List of Names #####\n",
    "names = [\"Ali\",\"Hamza\",\"Areeb\",\"Mohsin\",\"Haseeb\"]\n",
    "for i in names:\n",
    "    print(f\"Hello {i}, How have you been?\")"
   ]
  },
  {
   "cell_type": "code",
   "execution_count": 49,
   "id": "aa253834",
   "metadata": {},
   "outputs": [
    {
     "name": "stdout",
     "output_type": "stream",
     "text": [
      "The first three items in the list are: ['Biryani', 'Pulao', 'Karahi']\n",
      "The Three items from the middle of the list are: ['Zinger', 'Chicken Tikka', 'BBQ']\n",
      "The last three items in the list are: ['Club Sandwich', 'Korma', 'Crispy Broast']\n"
     ]
    }
   ],
   "source": [
    "##### List of foods #####\n",
    "foods = [\"Biryani\",\"Pulao\",\"Karahi\",\"Zinger\",\"Chicken Tikka\",\"BBQ\",\"Club Sandwich\",\"Korma\",\"Crispy Broast\"]\n",
    "print(f\"The first three items in the list are: {foods[0:3]}\")\n",
    "print(f\"The Three items from the middle of the list are: {foods[3:6]}\")\n",
    "print(f\"The last three items in the list are: {foods[6:9]}\")"
   ]
  },
  {
   "cell_type": "code",
   "execution_count": 50,
   "id": "bfa2f240",
   "metadata": {},
   "outputs": [
    {
     "name": "stdout",
     "output_type": "stream",
     "text": [
      "My favorite foods are: \n",
      "Biryani\n",
      "Pulao\n",
      "Karahi\n",
      "Zinger\n",
      "Chicken Tikka\n",
      "BBQ\n",
      "Club Sandwich\n",
      "Korma\n",
      "Crispy Broast\n",
      "Seekh Kabab\n",
      " \n",
      "My friend's favorite foods are:\n",
      "Biryani\n",
      "Pulao\n",
      "Karahi\n",
      "Zinger\n",
      "Chicken Tikka\n",
      "BBQ\n",
      "Club Sandwich\n",
      "Korma\n",
      "Crispy Broast\n",
      "Pizza\n"
     ]
    }
   ],
   "source": [
    "##### List of friend's foods #####\n",
    "foods = [\"Biryani\",\"Pulao\",\"Karahi\",\"Zinger\",\"Chicken Tikka\",\"BBQ\",\"Club Sandwich\",\"Korma\",\"Crispy Broast\"]\n",
    "friends_foods = [\"Biryani\",\"Pulao\",\"Karahi\",\"Zinger\",\"Chicken Tikka\",\"BBQ\",\"Club Sandwich\",\"Korma\",\"Crispy Broast\"]\n",
    "\n",
    "foods.append(\"Seekh Kabab\")\n",
    "friends_foods.append(\"Pizza\")\n",
    "\n",
    "print(\"My favorite foods are: \")\n",
    "for items in foods:\n",
    "    print(items)\n",
    "\n",
    "print(\" \")\n",
    "    \n",
    "print(\"My friend's favorite foods are:\")\n",
    "for items in friends_foods:\n",
    "    print(items)"
   ]
  },
  {
   "cell_type": "code",
   "execution_count": null,
   "id": "14775a09",
   "metadata": {},
   "outputs": [],
   "source": []
  }
 ],
 "metadata": {
  "kernelspec": {
   "display_name": "Python 3 (ipykernel)",
   "language": "python",
   "name": "python3"
  },
  "language_info": {
   "codemirror_mode": {
    "name": "ipython",
    "version": 3
   },
   "file_extension": ".py",
   "mimetype": "text/x-python",
   "name": "python",
   "nbconvert_exporter": "python",
   "pygments_lexer": "ipython3",
   "version": "3.9.12"
  }
 },
 "nbformat": 4,
 "nbformat_minor": 5
}
