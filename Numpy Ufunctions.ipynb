{
 "cells": [
  {
   "cell_type": "code",
   "execution_count": 1,
   "id": "652b92c3",
   "metadata": {},
   "outputs": [],
   "source": [
    "import numpy as np"
   ]
  },
  {
   "cell_type": "markdown",
   "id": "c1568f0a",
   "metadata": {},
   "source": [
    "# Numpy Ufunctions"
   ]
  },
  {
   "cell_type": "code",
   "execution_count": 5,
   "id": "aa31efc7",
   "metadata": {},
   "outputs": [
    {
     "data": {
      "text/plain": [
       "array([[10, 13, 16, 16],\n",
       "       [24, 21, 22, 16]])"
      ]
     },
     "metadata": {},
     "output_type": "display_data"
    },
    {
     "data": {
      "text/plain": [
       "array([[ 8,  9, 10,  4],\n",
       "       [ 8,  7, 12,  8]])"
      ]
     },
     "metadata": {},
     "output_type": "display_data"
    },
    {
     "data": {
      "text/plain": [
       "array([[  9,  22,  39,  60],\n",
       "       [128,  98,  85,  48]])"
      ]
     },
     "metadata": {},
     "output_type": "display_data"
    },
    {
     "data": {
      "text/plain": [
       "array([[0.11111111, 0.18181818, 0.23076923, 0.6       ],\n",
       "       [0.5       , 0.5       , 0.29411765, 0.33333333]])"
      ]
     },
     "metadata": {},
     "output_type": "display_data"
    }
   ],
   "source": [
    "a = np.array([[1,2,3,6],[8,7,5,4]])\n",
    "b = np.array([[9,11,13,10],[16,14,17,12]])\n",
    "display(np.add(a,b)) # Add Arrays\n",
    "display(np.subtract(b,a)) # Subtract Arrays\n",
    "display(np.multiply(a,b)) # Multiply Arrays\n",
    "display(np.divide(a,b)) # Divide Arrays"
   ]
  },
  {
   "cell_type": "code",
   "execution_count": 9,
   "id": "e3ad39dc",
   "metadata": {},
   "outputs": [
    {
     "data": {
      "text/plain": [
       "array([[ 1,  4,  9, 36],\n",
       "       [64, 49, 25, 16]], dtype=int32)"
      ]
     },
     "metadata": {},
     "output_type": "display_data"
    },
    {
     "data": {
      "text/plain": [
       "array([[3.        , 3.31662479, 3.60555128, 3.16227766],\n",
       "       [4.        , 3.74165739, 4.12310563, 3.46410162]])"
      ]
     },
     "metadata": {},
     "output_type": "display_data"
    },
    {
     "data": {
      "text/plain": [
       "array([[ 9, 11, 13, 10],\n",
       "       [16, 14, 17, 12]])"
      ]
     },
     "metadata": {},
     "output_type": "display_data"
    },
    {
     "data": {
      "text/plain": [
       "array([[1, 2, 3, 6],\n",
       "       [8, 7, 5, 4]])"
      ]
     },
     "metadata": {},
     "output_type": "display_data"
    },
    {
     "data": {
      "text/plain": [
       "array([[1., 2., 3., 6.],\n",
       "       [8., 7., 5., 4.]])"
      ]
     },
     "metadata": {},
     "output_type": "display_data"
    },
    {
     "data": {
      "text/plain": [
       "array([[ 9., 11., 13., 10.],\n",
       "       [16., 14., 17., 12.]])"
      ]
     },
     "metadata": {},
     "output_type": "display_data"
    }
   ],
   "source": [
    "display(np.square(a)) # Square every element in Arrays\n",
    "display(np.sqrt(b)) # Square root every element in Arrays\n",
    "display(np.abs(b)) # Absolute Value of elements in Arrays\n",
    "display(np.round(a)) # Rounds to the nearest Integer of every element in Arrays\n",
    "display(np.ceil(a))\n",
    "display(np.floor(b)) "
   ]
  },
  {
   "cell_type": "code",
   "execution_count": 10,
   "id": "3875ca1a",
   "metadata": {},
   "outputs": [
    {
     "data": {
      "text/plain": [
       "array([[False, False, False, False],\n",
       "       [False, False, False, False]])"
      ]
     },
     "metadata": {},
     "output_type": "display_data"
    },
    {
     "data": {
      "text/plain": [
       "array([[ True,  True,  True,  True],\n",
       "       [ True,  True,  True,  True]])"
      ]
     },
     "metadata": {},
     "output_type": "display_data"
    },
    {
     "data": {
      "text/plain": [
       "array([[0.        , 0.69314718, 1.09861229, 1.79175947],\n",
       "       [2.07944154, 1.94591015, 1.60943791, 1.38629436]])"
      ]
     },
     "metadata": {},
     "output_type": "display_data"
    },
    {
     "data": {
      "text/plain": [
       "array([4, 8, 6, 9])"
      ]
     },
     "metadata": {},
     "output_type": "display_data"
    },
    {
     "data": {
      "text/plain": [
       "array([1, 5, 2, 8])"
      ]
     },
     "metadata": {},
     "output_type": "display_data"
    }
   ],
   "source": [
    "display(np.isnan(b)) # return wether element is a number or not\n",
    "display(np.isfinite(a))# return wether element is a infinte or not\n",
    "display(np.log(a)) # Natural log of every elements in Arrays\n",
    "display(np.maximum([4,8,2,9],[1,5,6,8])) # Maximum Values between Arrays \n",
    "display(np.minimum([4,8,2,9],[1,5,6,8])) # Minimum Values between Arrays"
   ]
  },
  {
   "cell_type": "code",
   "execution_count": 11,
   "id": "fef0b9ff",
   "metadata": {},
   "outputs": [
    {
     "data": {
      "text/plain": [
       "array([0.        , 0.52359878, 1.04719755, 1.57079633, 2.0943951 ,\n",
       "       3.14159265])"
      ]
     },
     "metadata": {},
     "output_type": "display_data"
    },
    {
     "data": {
      "text/plain": [
       "array([0.00000000e+00, 5.00000000e-01, 8.66025404e-01, 1.00000000e+00,\n",
       "       8.66025404e-01, 1.22464680e-16])"
      ]
     },
     "metadata": {},
     "output_type": "display_data"
    },
    {
     "data": {
      "text/plain": [
       "array([ 1.00000000e+00,  8.66025404e-01,  5.00000000e-01,  6.12323400e-17,\n",
       "       -5.00000000e-01, -1.00000000e+00])"
      ]
     },
     "metadata": {},
     "output_type": "display_data"
    },
    {
     "data": {
      "text/plain": [
       "array([ 0.00000000e+00,  5.77350269e-01,  1.73205081e+00,  1.63312394e+16,\n",
       "       -1.73205081e+00, -1.22464680e-16])"
      ]
     },
     "metadata": {},
     "output_type": "display_data"
    },
    {
     "data": {
      "text/plain": [
       "array([0.        , 0.20135792, 0.30469265, 0.27339303, 0.70758444])"
      ]
     },
     "metadata": {},
     "output_type": "display_data"
    },
    {
     "data": {
      "text/plain": [
       "array([1.57079633, 1.36943841, 1.26610367, 1.2974033 , 0.86321189])"
      ]
     },
     "metadata": {},
     "output_type": "display_data"
    },
    {
     "data": {
      "text/plain": [
       "array([0.        , 0.19739556, 0.29145679, 0.26371183, 0.57637522])"
      ]
     },
     "metadata": {},
     "output_type": "display_data"
    }
   ],
   "source": [
    "angles = [0,30,60,90,120,180] # Degree Values\n",
    "arr = [0,0.2,0.3,0.27,0.65] # Radian Values\n",
    "radians = np.deg2rad(angles) # convert degree to radian values\n",
    "\n",
    "display(radians)\n",
    "display(np.sin(radians)) # Returns sin of every elenent in an Array\n",
    "display(np.cos(radians)) # Returns cos of every elenent in an Array\n",
    "display(np.tan(radians)) # Returns tan of every elenent in an Array\n",
    "display(np.arcsin(arr)) # Returns inverse sin of every elenent in an Array\n",
    "display(np.arccos(arr)) # Returns inverse cos of every elenent in an Array\n",
    "display(np.arctan(arr)) # Returns inverse tan of every elenent in an Array"
   ]
  },
  {
   "cell_type": "code",
   "execution_count": null,
   "id": "850dfcd6",
   "metadata": {},
   "outputs": [],
   "source": []
  }
 ],
 "metadata": {
  "kernelspec": {
   "display_name": "Python 3 (ipykernel)",
   "language": "python",
   "name": "python3"
  },
  "language_info": {
   "codemirror_mode": {
    "name": "ipython",
    "version": 3
   },
   "file_extension": ".py",
   "mimetype": "text/x-python",
   "name": "python",
   "nbconvert_exporter": "python",
   "pygments_lexer": "ipython3",
   "version": "3.9.13"
  }
 },
 "nbformat": 4,
 "nbformat_minor": 5
}
