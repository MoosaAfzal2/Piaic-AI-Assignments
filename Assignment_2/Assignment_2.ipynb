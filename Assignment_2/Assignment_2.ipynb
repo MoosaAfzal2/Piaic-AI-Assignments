{
 "cells": [
  {
   "cell_type": "code",
   "execution_count": 2,
   "id": "5081e012",
   "metadata": {},
   "outputs": [
    {
     "name": "stdout",
     "output_type": "stream",
     "text": [
      "{'aic-a01': {'name': 'kamran', 'class': 'aic', 'session': 2}, 'cnc-a20': {'name': 'kamran', 'class': 'aic', 'session': 2}, 'btc-a01': {'name': 'kamran', 'class': 'aic', 'session': 2}}\n"
     ]
    }
   ],
   "source": [
    "student1 = {\"name\":\"kamran\",\"class\":\"aic\",\"session\": 2}\n",
    "student2 = {\"name\": \"arif\",\"class\":\"cnc\",\"session\": 1}\n",
    "student3 = {\"name\": \"mehmood\",\"class\":\"btc\",\"session\": 3}\n",
    "\n",
    "students = {}\n",
    "\n",
    "students[\"aic-a01\"] = student1\n",
    "students[\"cnc-a20\"] = student1\n",
    "students[\"btc-a01\"] = student1\n",
    "\n",
    "print(students)"
   ]
  },
  {
   "cell_type": "code",
   "execution_count": 3,
   "id": "5e44f8fe",
   "metadata": {},
   "outputs": [
    {
     "name": "stdout",
     "output_type": "stream",
     "text": [
      "student: aic-a01\n",
      " name: kamran\n",
      " class: aic\n",
      " session: 2\n",
      "\n",
      "student: cnc-a20\n",
      " name: kamran\n",
      " class: aic\n",
      " session: 2\n",
      "\n",
      "student: btc-a01\n",
      " name: kamran\n",
      " class: aic\n",
      " session: 2\n",
      "\n"
     ]
    }
   ],
   "source": [
    "for i,j in students.items():\n",
    "    \n",
    "    print(\"student:\",i)\n",
    "    \n",
    "    for keys,val in j.items():\n",
    "        print(\" \"+ keys + \":\",val)\n",
    "    \n",
    "    print(\"\")"
   ]
  },
  {
   "cell_type": "code",
   "execution_count": 4,
   "id": "8687666e",
   "metadata": {},
   "outputs": [
    {
     "name": "stdout",
     "output_type": "stream",
     "text": [
      "Enter Number: 5\n",
      "15\n"
     ]
    }
   ],
   "source": [
    "num = int(input(\"Enter Number: \"))\n",
    "val = 0\n",
    "for i in range(num+1):\n",
    "    val += i\n",
    "\n",
    "print(val)"
   ]
  },
  {
   "cell_type": "code",
   "execution_count": 5,
   "id": "c9336da5",
   "metadata": {},
   "outputs": [
    {
     "name": "stdout",
     "output_type": "stream",
     "text": [
      "70\n",
      "60\n",
      "90\n",
      "80\n"
     ]
    }
   ],
   "source": [
    "student_1 = {\"name\":\"Kamran\",\"class\":\"Ai\",\"Marks\":[70,60,90,80]}\n",
    "for i in student_1[\"Marks\"]:\n",
    "    print(i)"
   ]
  },
  {
   "cell_type": "code",
   "execution_count": 6,
   "id": "b0240087",
   "metadata": {},
   "outputs": [
    {
     "name": "stdout",
     "output_type": "stream",
     "text": [
      "Enter Quiz: mid\n",
      "50\n"
     ]
    }
   ],
   "source": [
    "quiz = input(\"Enter Quiz: \")\n",
    "student_1 = {\"name\":\"Kamran\",\"class\":\"Ai\",\"Marks\":{\"quiz1\":40,\"quiz2\":45,\"mid\":50,\"final\":55}}\n",
    "marks = student_1[\"Marks\"][quiz]\n",
    "print(marks)"
   ]
  },
  {
   "cell_type": "code",
   "execution_count": 7,
   "id": "fa740913",
   "metadata": {},
   "outputs": [
    {
     "name": "stdout",
     "output_type": "stream",
     "text": [
      "0.5499999999999999\n"
     ]
    }
   ],
   "source": [
    "customer_29876 = {\"first name\": \"David\",\"last name\": \"Elliott\",\"address\": \"4803 Wellesley St.\",\n",
    "\"discounts\": [\"brother-in-law\",\"standard\", \"volume\", \"loyalty\"]}\n",
    "\n",
    "discount_amount = 0\n",
    "if \"brother-in-law\" in customer_29876[\"discounts\"]:\n",
    "    discount_amount += .30\n",
    "if \"loyalty\" in customer_29876[\"discounts\"]:\n",
    "    discount_amount += .15\n",
    "if \"volume\" in customer_29876[\"discounts\"]:\n",
    "    discount_amount += .10\n",
    "\n",
    "print(discount_amount)"
   ]
  },
  {
   "cell_type": "code",
   "execution_count": 8,
   "id": "8b2caf64",
   "metadata": {},
   "outputs": [
    {
     "name": "stdout",
     "output_type": "stream",
     "text": [
      "{'name': 'moosa', 'AI': {'Marks': {'quiz1': 76, 'quiz2': 80, 'mid': 77, 'final': 90}}, 'CNC': {'Marks': {'quiz1': 88, 'quiz2': 71, 'mid': 90, 'final': 80}}}\n",
      "\n",
      "{'name': 'haroon', 'AI': {'Marks': {'quiz1': 42, 'quiz2': 46, 'mid': 53, 'final': 58}}, 'CNC': {'Marks': {'quiz1': 43, 'quiz2': 47, 'mid': 54, 'final': 59}}}\n",
      "\n",
      "{'name': 'ali', 'AI': {'Marks': {'quiz1': 45, 'quiz2': 48, 'mid': 54, 'final': 60}}, 'CNC': {'Marks': {'quiz1': 46, 'quiz2': 49, 'mid': 55, 'final': 61}}}\n",
      "\n",
      "{'name': 'kamran', 'AI': {'Marks': {'quiz1': 47, 'quiz2': 50, 'mid': 56, 'final': 62}}, 'CNC': {'Marks': {'quiz1': 48, 'quiz2': 51, 'mid': 57, 'final': 63}}}\n",
      "\n",
      "{'name': 'khursheed', 'AI': {'Marks': {'quiz1': 49, 'quiz2': 52, 'mid': 58, 'final': 64}}, 'CNC': {'Marks': {'quiz1': 50, 'quiz2': 53, 'mid': 59, 'final': 65}}}\n",
      "\n",
      "{'name': 'fahad', 'AI': {'Marks': {'quiz1': 51, 'quiz2': 54, 'mid': 60, 'final': 66}}, 'CNC': {'Marks': {'quiz1': 52, 'quiz2': 55, 'mid': 61, 'final': 67}}}\n",
      "\n",
      "{'name': 'areeb', 'AI': {'Marks': {'quiz1': 53, 'quiz2': 56, 'mid': 62, 'final': 68}}, 'CNC': {'Marks': {'quiz1': 54, 'quiz2': 57, 'mid': 53, 'final': 68}}}\n",
      "\n",
      "{'name': 'haris', 'AI': {'Marks': {'quiz1': 55, 'quiz2': 58, 'mid': 64, 'final': 69}}, 'CNC': {'Marks': {'quiz1': 56, 'quiz2': 59, 'mid': 65, 'final': 71}}}\n",
      "\n",
      "{'name': 'usman', 'AI': {'Marks': {'quiz1': 57, 'quiz2': 60, 'mid': 66, 'final': 73}}, 'CNC': {'Marks': {'quiz1': 58, 'quiz2': 61, 'mid': 67, 'final': 75}}}\n",
      "\n",
      "{'name': 'qasim', 'AI': {'Marks': {'quiz1': 59, 'quiz2': 62, 'mid': 68, 'final': 76}}, 'CNC': {'Marks': {'quiz1': 60, 'quiz2': 64, 'mid': 70, 'final': 80}}}\n",
      "\n"
     ]
    }
   ],
   "source": [
    "students = []\n",
    "\n",
    "class1 = {\"Marks\":{\"quiz1\":76,\"quiz2\":80,\"mid\":77,\"final\":90}}\n",
    "class2 = {\"Marks\":{\"quiz1\":88,\"quiz2\":71,\"mid\":90,\"final\":80}}\n",
    "class3 = {\"Marks\":{\"quiz1\":42,\"quiz2\":46,\"mid\":53,\"final\":58}}\n",
    "class4 = {\"Marks\":{\"quiz1\":43,\"quiz2\":47,\"mid\":54,\"final\":59}}\n",
    "class5 = {\"Marks\":{\"quiz1\":45,\"quiz2\":48,\"mid\":54,\"final\":60}}\n",
    "class6 = {\"Marks\":{\"quiz1\":46,\"quiz2\":49,\"mid\":55,\"final\":61}}\n",
    "class7 = {\"Marks\":{\"quiz1\":47,\"quiz2\":50,\"mid\":56,\"final\":62}}\n",
    "class8 = {\"Marks\":{\"quiz1\":48,\"quiz2\":51,\"mid\":57,\"final\":63}}\n",
    "class9 = {\"Marks\":{\"quiz1\":49,\"quiz2\":52,\"mid\":58,\"final\":64}}\n",
    "class10 = {\"Marks\":{\"quiz1\":50,\"quiz2\":53,\"mid\":59,\"final\":65}}\n",
    "class11 = {\"Marks\":{\"quiz1\":51,\"quiz2\":54,\"mid\":60,\"final\":66}}\n",
    "class12 = {\"Marks\":{\"quiz1\":52,\"quiz2\":55,\"mid\":61,\"final\":67}}\n",
    "class13 = {\"Marks\":{\"quiz1\":53,\"quiz2\":56,\"mid\":62,\"final\":68}}\n",
    "class14 = {\"Marks\":{\"quiz1\":54,\"quiz2\":57,\"mid\":53,\"final\":68}}\n",
    "class15 = {\"Marks\":{\"quiz1\":55,\"quiz2\":58,\"mid\":64,\"final\":69}}\n",
    "class16 = {\"Marks\":{\"quiz1\":56,\"quiz2\":59,\"mid\":65,\"final\":71}}\n",
    "class17 = {\"Marks\":{\"quiz1\":57,\"quiz2\":60,\"mid\":66,\"final\":73}}\n",
    "class18 = {\"Marks\":{\"quiz1\":58,\"quiz2\":61,\"mid\":67,\"final\":75}}\n",
    "class19 = {\"Marks\":{\"quiz1\":59,\"quiz2\":62,\"mid\":68,\"final\":76}}\n",
    "class20 = {\"Marks\":{\"quiz1\":60,\"quiz2\":64,\"mid\":70,\"final\":80}}\n",
    "\n",
    "student_1 = {\"name\":\"moosa\",\"AI\":class1,\"CNC\":class2}\n",
    "student_2 = {\"name\":\"haroon\",\"AI\":class3,\"CNC\":class4}\n",
    "student_3 = {\"name\":\"ali\",\"AI\":class5,\"CNC\":class6}\n",
    "student_4 = {\"name\":\"kamran\",\"AI\":class7,\"CNC\":class8}\n",
    "student_5 = {\"name\":\"khursheed\",\"AI\":class9,\"CNC\":class10}\n",
    "student_6 = {\"name\":\"fahad\",\"AI\":class11,\"CNC\":class12}\n",
    "student_7 = {\"name\":\"areeb\",\"AI\":class13,\"CNC\":class14}\n",
    "student_8 = {\"name\":\"haris\",\"AI\":class15,\"CNC\":class16}\n",
    "student_9 = {\"name\":\"usman\",\"AI\":class17,\"CNC\":class18}\n",
    "student_10 = {\"name\":\"qasim\",\"AI\":class19,\"CNC\":class20}\n",
    "\n",
    "students.append(student_1)\n",
    "students.append(student_2)\n",
    "students.append(student_3)\n",
    "students.append(student_4)\n",
    "students.append(student_5)\n",
    "students.append(student_6)\n",
    "students.append(student_7)\n",
    "students.append(student_8)\n",
    "students.append(student_9)\n",
    "students.append(student_10)\n",
    "\n",
    "for i in students:\n",
    "    print(i)\n",
    "    print(\"\")"
   ]
  },
  {
   "cell_type": "code",
   "execution_count": 9,
   "id": "216a382e",
   "metadata": {},
   "outputs": [
    {
     "name": "stdout",
     "output_type": "stream",
     "text": [
      "Enter Student Name: Moosa\n",
      "Enter Class AI / CNC: AI\n",
      "Enter Quiz quiz1 / quiz2 / mid / final: mid\n",
      "Student Moosa's Marks of mid in Class AI is: 77%\n"
     ]
    }
   ],
   "source": [
    "name = input(\"Enter Student Name: \")\n",
    "cls = (input(\"Enter Class AI / CNC: \")).upper()\n",
    "quiz = input(\"Enter Quiz quiz1 / quiz2 / mid / final: \")\n",
    "for i in students:\n",
    "    if i[\"name\"] == name.lower():\n",
    "        Marks = i[cls][\"Marks\"][quiz]\n",
    "        print(f\"Student {name}'s Marks of {quiz} in Class {cls} is: {Marks}%\",)"
   ]
  },
  {
   "cell_type": "code",
   "execution_count": null,
   "id": "2150d59b",
   "metadata": {},
   "outputs": [],
   "source": []
  }
 ],
 "metadata": {
  "kernelspec": {
   "display_name": "Python 3 (ipykernel)",
   "language": "python",
   "name": "python3"
  },
  "language_info": {
   "codemirror_mode": {
    "name": "ipython",
    "version": 3
   },
   "file_extension": ".py",
   "mimetype": "text/x-python",
   "name": "python",
   "nbconvert_exporter": "python",
   "pygments_lexer": "ipython3",
   "version": "3.9.12"
  }
 },
 "nbformat": 4,
 "nbformat_minor": 5
}
