{
 "cells": [
  {
   "cell_type": "code",
   "execution_count": 3,
   "id": "44f9689d",
   "metadata": {},
   "outputs": [
    {
     "name": "stdout",
     "output_type": "stream",
     "text": [
      "Electric charges for  525  = 10374.0\n",
      "Uniform charges for  525  = 300.0375\n",
      "Electric charges for  112  = 1152.48\n",
      "Uniform charges for  112  = 64.008\n",
      "Electric charges for  349  = 6065.62\n",
      "Uniform charges for  349  = 199.4535\n",
      "Electric charges for  700  = 14279.999999999998\n",
      "Uniform charges for  700  = 400.05\n",
      "Electric charges for  -22  = -1\n",
      "Uniform charges for  -22  = -12.573\n",
      "Electric charges for  450  = 8478.0\n",
      "Uniform charges for  450  = 257.175\n",
      "Electric charges for  116  = 1193.6399999999999\n",
      "Uniform charges for  116  = 66.294\n"
     ]
    }
   ],
   "source": [
    "def electricity(monthly_units):\n",
    "    charges = 0\n",
    "    if monthly_units > 1 and monthly_units <= 100:\n",
    "        charges = monthly_units * 9.43\n",
    "    elif monthly_units > 101 and monthly_units <= 200:\n",
    "        charges = monthly_units * 10.29\n",
    "    elif monthly_units > 201 and monthly_units <= 300:\n",
    "        charges = monthly_units * 12.55\n",
    "    elif monthly_units > 301 and monthly_units <= 400:\n",
    "        charges = monthly_units * 17.38\n",
    "    elif monthly_units > 401 and monthly_units <= 500:\n",
    "        charges = monthly_units * 18.84\n",
    "    elif monthly_units > 501 and monthly_units <= 600:\n",
    "        charges = monthly_units * 19.76\n",
    "    elif monthly_units > 601 and monthly_units <= 700:\n",
    "        charges = monthly_units * 20.40\n",
    "    elif monthly_units > 700:\n",
    "        charges = monthly_units * 23.87\n",
    "    else:\n",
    "        charges = -1\n",
    "\n",
    "    return charges\n",
    "    \n",
    "def uniform_charges(monthly_units):\n",
    "    charges = monthly_units * 0.5715\n",
    "    return charges\n",
    "    \n",
    "# def fuel_charges():\n",
    "# def sales():\n",
    "# def advance():\n",
    "# def tv_fees():\n",
    "\n",
    "def bill_main(monthly_units):\n",
    "    electric_charges = electricity(monthly_units)\n",
    "    print(\"Electric charges for \",monthly_units,\" =\",electric_charges)\n",
    "    \n",
    "    uniform_charge = uniform_charges(monthly_units)\n",
    "    print(\"Uniform charges for \",monthly_units,\" =\",uniform_charge)\n",
    "    \n",
    "    #fuel_charges = fuel(monthly_units)\n",
    "    #print(\"Electric charges for \",monthly_units,\" =\",fuel_charges)\n",
    "    \n",
    "    #sales_tax = sales(monthly_units)\n",
    "    #print(\"Electric charges for \",monthly_units,\" =\",sales_tax)\n",
    "    \n",
    "    #advance_tax = advance(monthly_units)\n",
    "    #print(\"Electric charges for \",monthly_units,\" =\",advance_tax)\n",
    "    \n",
    "    #tv_fee = tv_fees(monthly_units)\n",
    "    #print(\"Electric charges for \",monthly_units,\" =\",tv_fee)\n",
    "    \n",
    "    #total = total(electric_charges, uniform_charges, fuel_charges, sales_tax, advance_tax, tv_fee)\n",
    "    #print(\"Electric charges for \",monthly_units,\" =\",total)\n",
    "\n",
    "bill_main(525)\n",
    "bill_main(112)\n",
    "bill_main(349)\n",
    "bill_main(700)\n",
    "bill_main(-22)\n",
    "bill_main(450)\n",
    "bill_main(116)"
   ]
  },
  {
   "cell_type": "code",
   "execution_count": null,
   "id": "4f036a6b",
   "metadata": {},
   "outputs": [],
   "source": []
  }
 ],
 "metadata": {
  "kernelspec": {
   "display_name": "Python 3 (ipykernel)",
   "language": "python",
   "name": "python3"
  },
  "language_info": {
   "codemirror_mode": {
    "name": "ipython",
    "version": 3
   },
   "file_extension": ".py",
   "mimetype": "text/x-python",
   "name": "python",
   "nbconvert_exporter": "python",
   "pygments_lexer": "ipython3",
   "version": "3.9.12"
  }
 },
 "nbformat": 4,
 "nbformat_minor": 5
}
