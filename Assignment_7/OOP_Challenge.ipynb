{
 "cells": [
  {
   "cell_type": "code",
   "execution_count": 2,
   "id": "a80ad359",
   "metadata": {},
   "outputs": [
    {
     "name": "stdout",
     "output_type": "stream",
     "text": [
      "7.00+7.00i\n",
      "-3.00-5.00i\n",
      "4.00+17.00i\n",
      "0.26-0.11i\n",
      "2.24+0.00i\n",
      "7.81+0.00i\n"
     ]
    }
   ],
   "source": [
    "import math\n",
    "\n",
    "class Complex(object):\n",
    "    def __init__(self, real, imaginary):\n",
    "        self.real = real\n",
    "        self.imaginary = imaginary\n",
    "        \n",
    "    def __add__(self, no):\n",
    "        return f\"{self.real+no.real:.2f}+{self.imaginary+no.imag:.2f}i\"\n",
    "        \n",
    "    def __sub__(self, no):\n",
    "        return f\"{self.real-no.real:.2f}{self.imaginary-no.imag:.2f}i\"\n",
    "        \n",
    "    def __mul__(self, no):\n",
    "        num = complex(self.real,self.imaginary) * complex(no.real,no.imag)\n",
    "        return f\"{num.real:.2f}{num.imag:+.2f}i\"\n",
    "\n",
    "    def __truediv__(self, no):\n",
    "        num = complex(self.real,self.imaginary) / complex(no.real,no.imag)\n",
    "        return f\"{num.real:.2f}{num.imag:+.2f}i\"\n",
    "\n",
    "    def mod(self):\n",
    "        res = (self.real**2) + (self.imaginary**2)\n",
    "        return f\"{round(math.sqrt(res),2)}+0.00i\"\n",
    "\n",
    "    def __str__(self):\n",
    "        if self.imaginary == 0:\n",
    "            result = \"%.2f+0.00i\" % (self.real)\n",
    "        elif self.real == 0:\n",
    "            if self.imaginary >= 0:\n",
    "                result = \"0.00+%.2fi\" % (self.imaginary)\n",
    "            else:\n",
    "                result = \"0.00-%.2fi\" % (abs(self.imaginary))\n",
    "        elif self.imaginary > 0:\n",
    "            result = \"%.2f+%.2fi\" % (self.real, self.imaginary)\n",
    "        else:\n",
    "            result = \"%.2f-%.2fi\" % (self.real, abs(self.imaginary))\n",
    "        return result\n",
    "\n",
    "complex_number = Complex(2,1)\n",
    "print(complex_number.__add__(5+6j))\n",
    "print(complex_number.__sub__(5+6j))\n",
    "print(complex_number.__mul__(5+6j))\n",
    "print(complex_number.__truediv__(5+6j))\n",
    "print(complex_number.mod())\n",
    "print(Complex(5,6).mod())"
   ]
  },
  {
   "cell_type": "code",
   "execution_count": null,
   "id": "c6b3970c",
   "metadata": {},
   "outputs": [],
   "source": []
  }
 ],
 "metadata": {
  "kernelspec": {
   "display_name": "Python 3 (ipykernel)",
   "language": "python",
   "name": "python3"
  },
  "language_info": {
   "codemirror_mode": {
    "name": "ipython",
    "version": 3
   },
   "file_extension": ".py",
   "mimetype": "text/x-python",
   "name": "python",
   "nbconvert_exporter": "python",
   "pygments_lexer": "ipython3",
   "version": "3.9.12"
  }
 },
 "nbformat": 4,
 "nbformat_minor": 5
}
