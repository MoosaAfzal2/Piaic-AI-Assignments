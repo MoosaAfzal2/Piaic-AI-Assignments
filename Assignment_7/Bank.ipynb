{
 "cells": [
  {
   "cell_type": "code",
   "execution_count": 1,
   "id": "15d0d5d5",
   "metadata": {},
   "outputs": [
    {
     "name": "stdout",
     "output_type": "stream",
     "text": [
      "Welcome to your Bank Account, Please Enter Your Name: Moosa\n",
      "Enter 1 to Check balance,\n",
      "2 to Deposit,\n",
      "3 to Withdraw OR,\n",
      "4 to Exit Bank Account: 1\n",
      "\n",
      "Your Current Balance: 0$\n",
      "Enter 1 to Check balance,\n",
      "2 to Deposit,\n",
      "3 to Withdraw OR,\n",
      "4 to Exit Bank Account: 2\n",
      "\n",
      "Hello Moosa, Please Enter Amount to Deposit: 1000\n",
      "\n",
      "1000$ has been Deposited to your Account\n",
      "Enter 1 to Check balance,\n",
      "2 to Deposit,\n",
      "3 to Withdraw OR,\n",
      "4 to Exit Bank Account: 3\n",
      "Hello Moosa, Please Enter Amount to Withdraw: 499\n",
      "\n",
      "499$ has been Withdrawn from your Account\n",
      "Enter 1 to Check balance,\n",
      "2 to Deposit,\n",
      "3 to Withdraw OR,\n",
      "4 to Exit Bank Account: 1\n",
      "\n",
      "Your Current Balance: 501$\n",
      "Enter 1 to Check balance,\n",
      "2 to Deposit,\n",
      "3 to Withdraw OR,\n",
      "4 to Exit Bank Account: 4\n",
      "Thank You for visiting our Bank!\n"
     ]
    }
   ],
   "source": [
    "class Bank():\n",
    "    def __init__(self, name, balance):\n",
    "        self.name = name\n",
    "        self.balance = balance\n",
    "        \n",
    "    def Balance(self):\n",
    "        print(f\"\\nYour Current Balance: {self.balance}$\")\n",
    "        \n",
    "    def Deposit(self):\n",
    "        deposit = int(input(f\"\\nHello {self.name}, Please Enter Amount to Deposit: \"))\n",
    "        self.balance += deposit\n",
    "        print(f\"\\n{deposit}$ has been Deposited to your Account\")\n",
    "        \n",
    "    def Withdraw(self):\n",
    "        withdraw_amount = int(input(f\"Hello {self.name}, Please Enter Amount to Withdraw: \"))\n",
    "        if withdraw_amount > self.balance :\n",
    "            print(\"\\nYou have Insufficient Balance to withdraw this amount\")\n",
    "        else:\n",
    "            self.balance -= withdraw_amount\n",
    "            print(f\"\\n{withdraw_amount}$ has been Withdrawn from your Account\")\n",
    "            \n",
    "name = input(\"Welcome to your Bank Account, Please Enter Your Name: \")\n",
    "Account = Bank(name,0)\n",
    "\n",
    "while(0 == 0):\n",
    "    Bank_Method_to_call = int(input(f\"Enter 1 to Check balance,\\n2 to Deposit,\\n3 to Withdraw OR,\\n4 to Exit Bank Account: \"))\n",
    "\n",
    "    if Bank_Method_to_call == 1:\n",
    "        Account.Balance()\n",
    "    \n",
    "    if Bank_Method_to_call == 2:\n",
    "        Account.Deposit()\n",
    "    \n",
    "    if Bank_Method_to_call == 3:\n",
    "        Account.Withdraw()\n",
    "        \n",
    "    if Bank_Method_to_call == 4:\n",
    "        print(\"Thank You for visiting our Bank!\")\n",
    "        break"
   ]
  },
  {
   "cell_type": "code",
   "execution_count": null,
   "id": "f556b7fe",
   "metadata": {},
   "outputs": [],
   "source": []
  }
 ],
 "metadata": {
  "kernelspec": {
   "display_name": "Python 3 (ipykernel)",
   "language": "python",
   "name": "python3"
  },
  "language_info": {
   "codemirror_mode": {
    "name": "ipython",
    "version": 3
   },
   "file_extension": ".py",
   "mimetype": "text/x-python",
   "name": "python",
   "nbconvert_exporter": "python",
   "pygments_lexer": "ipython3",
   "version": "3.9.12"
  }
 },
 "nbformat": 4,
 "nbformat_minor": 5
}
